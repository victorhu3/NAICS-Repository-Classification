{
 "cells": [
  {
   "cell_type": "code",
   "execution_count": 3,
   "metadata": {},
   "outputs": [
    {
     "name": "stdout",
     "output_type": "stream",
     "text": [
      "Image description: a tractor in a field\n",
      "Tags detected: grass, outdoor, sky, red, outdoor object, farm machine. \n",
      "\n"
     ]
    }
   ],
   "source": [
    "from azure.cognitiveservices.vision.computervision import ComputerVisionClient\n",
    "from azure.cognitiveservices.vision.computervision.models import VisualFeatureTypes\n",
    "from msrest.authentication import CognitiveServicesCredentials\n",
    "\n",
    "def describe_image(remote_image_url):\n",
    "    key = AZURE_CV_KEY\n",
    "    endpoint = AZURE_CV_ENDPOINT\n",
    "\n",
    "    computervision_client = ComputerVisionClient(\n",
    "        endpoint, CognitiveServicesCredentials(key))\n",
    "    analysis_results = computervision_client.analyze_image(\n",
    "        remote_image_url, visual_features=[VisualFeatureTypes.description])\n",
    "\n",
    "    description = ''\n",
    "\n",
    "    if (len(analysis_results.description.captions) == 0):\n",
    "        description += \"No description detected. \"\n",
    "    else:\n",
    "        for caption in analysis_results.description.captions:\n",
    "            description += f'{caption.text}'\n",
    "\n",
    "    if (len(analysis_results.description.tags) == 0):\n",
    "        description += \"No tags detected. \"\n",
    "    else:\n",
    "        description += \"\\nTags detected: \"\n",
    "        for tag in analysis_results.description.tags:\n",
    "            description += tag + \", \"\n",
    "        # remove the trailing comma and space\n",
    "        description = description.rstrip(', ') + '. '\n",
    "\n",
    "    return description\n",
    "\n",
    "description = describe_image('https://t4.ftcdn.net/jpg/02/32/95/85/360_F_232958581_JEeIAwgiUk2lxuyRvmHMdGkH1DFbYL4i.jpg')\n",
    "\n",
    "print(f'Image description: {description}\\n')\n"
   ]
  },
  {
   "cell_type": "code",
   "execution_count": null,
   "metadata": {},
   "outputs": [],
   "source": []
  }
 ],
 "metadata": {
  "kernelspec": {
   "display_name": "Python 3",
   "language": "python",
   "name": "python3"
  },
  "language_info": {
   "codemirror_mode": {
    "name": "ipython",
    "version": 3
   },
   "file_extension": ".py",
   "mimetype": "text/x-python",
   "name": "python",
   "nbconvert_exporter": "python",
   "pygments_lexer": "ipython3",
   "version": "3.11.6"
  }
 },
 "nbformat": 4,
 "nbformat_minor": 2
}
